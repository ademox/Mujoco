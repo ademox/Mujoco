{
 "cells": [
  {
   "cell_type": "code",
   "execution_count": 1,
   "id": "initial_id",
   "metadata": {
    "collapsed": true,
    "ExecuteTime": {
     "end_time": "2025-03-21T15:48:19.454825Z",
     "start_time": "2025-03-21T15:48:18.551701Z"
    }
   },
   "outputs": [
    {
     "name": "stdout",
     "output_type": "stream",
     "text": [
      "Running the simulation for 50.0 seconds ...\n"
     ]
    },
    {
     "ename": "NameNotFound",
     "evalue": "Environment `xarm7ForceEnv` doesn't exist.",
     "output_type": "error",
     "traceback": [
      "\u001B[1;31m---------------------------------------------------------------------------\u001B[0m",
      "\u001B[1;31mNameNotFound\u001B[0m                              Traceback (most recent call last)",
      "Cell \u001B[1;32mIn[1], line 13\u001B[0m\n\u001B[0;32m     10\u001B[0m test_duration \u001B[38;5;241m=\u001B[39m NUM_STEPS \u001B[38;5;241m*\u001B[39m SLEEP_TIME\n\u001B[0;32m     11\u001B[0m \u001B[38;5;28mprint\u001B[39m(\u001B[38;5;124mf\u001B[39m\u001B[38;5;124m\"\u001B[39m\u001B[38;5;124mRunning the simulation for \u001B[39m\u001B[38;5;132;01m{\u001B[39;00mtest_duration\u001B[38;5;132;01m}\u001B[39;00m\u001B[38;5;124m seconds ...\u001B[39m\u001B[38;5;124m\"\u001B[39m)\n\u001B[1;32m---> 13\u001B[0m env \u001B[38;5;241m=\u001B[39m gym\u001B[38;5;241m.\u001B[39mmake(EVN_NAME, render_mode\u001B[38;5;241m=\u001B[39mRENDER_MODE)\n\u001B[0;32m     14\u001B[0m obs, info \u001B[38;5;241m=\u001B[39m env\u001B[38;5;241m.\u001B[39mreset()\n\u001B[0;32m     16\u001B[0m \u001B[38;5;28mprint\u001B[39m(\u001B[38;5;124m\"\u001B[39m\u001B[38;5;124mAction Space Shape:\u001B[39m\u001B[38;5;124m\"\u001B[39m, env\u001B[38;5;241m.\u001B[39maction_space\u001B[38;5;241m.\u001B[39mshape)\n",
      "File \u001B[1;32m~\\anaconda3\\Lib\\site-packages\\gymnasium\\envs\\registration.py:687\u001B[0m, in \u001B[0;36mmake\u001B[1;34m(id, max_episode_steps, disable_env_checker, **kwargs)\u001B[0m\n\u001B[0;32m    684\u001B[0m     \u001B[38;5;28;01massert\u001B[39;00m \u001B[38;5;28misinstance\u001B[39m(\u001B[38;5;28mid\u001B[39m, \u001B[38;5;28mstr\u001B[39m)\n\u001B[0;32m    686\u001B[0m     \u001B[38;5;66;03m# The environment name can include an unloaded module in \"module:env_name\" style\u001B[39;00m\n\u001B[1;32m--> 687\u001B[0m     env_spec \u001B[38;5;241m=\u001B[39m _find_spec(\u001B[38;5;28mid\u001B[39m)\n\u001B[0;32m    689\u001B[0m \u001B[38;5;28;01massert\u001B[39;00m \u001B[38;5;28misinstance\u001B[39m(env_spec, EnvSpec)\n\u001B[0;32m    691\u001B[0m \u001B[38;5;66;03m# Update the env spec kwargs with the `make` kwargs\u001B[39;00m\n",
      "File \u001B[1;32m~\\anaconda3\\Lib\\site-packages\\gymnasium\\envs\\registration.py:531\u001B[0m, in \u001B[0;36m_find_spec\u001B[1;34m(env_id)\u001B[0m\n\u001B[0;32m    525\u001B[0m     logger\u001B[38;5;241m.\u001B[39mwarn(\n\u001B[0;32m    526\u001B[0m         \u001B[38;5;124mf\u001B[39m\u001B[38;5;124m\"\u001B[39m\u001B[38;5;124mUsing the latest versioned environment `\u001B[39m\u001B[38;5;132;01m{\u001B[39;00mnew_env_id\u001B[38;5;132;01m}\u001B[39;00m\u001B[38;5;124m` \u001B[39m\u001B[38;5;124m\"\u001B[39m\n\u001B[0;32m    527\u001B[0m         \u001B[38;5;124mf\u001B[39m\u001B[38;5;124m\"\u001B[39m\u001B[38;5;124minstead of the unversioned environment `\u001B[39m\u001B[38;5;132;01m{\u001B[39;00menv_name\u001B[38;5;132;01m}\u001B[39;00m\u001B[38;5;124m`.\u001B[39m\u001B[38;5;124m\"\u001B[39m\n\u001B[0;32m    528\u001B[0m     )\n\u001B[0;32m    530\u001B[0m \u001B[38;5;28;01mif\u001B[39;00m env_spec \u001B[38;5;129;01mis\u001B[39;00m \u001B[38;5;28;01mNone\u001B[39;00m:\n\u001B[1;32m--> 531\u001B[0m     _check_version_exists(ns, name, version)\n\u001B[0;32m    532\u001B[0m     \u001B[38;5;28;01mraise\u001B[39;00m error\u001B[38;5;241m.\u001B[39mError(\n\u001B[0;32m    533\u001B[0m         \u001B[38;5;124mf\u001B[39m\u001B[38;5;124m\"\u001B[39m\u001B[38;5;124mNo registered env with id: \u001B[39m\u001B[38;5;132;01m{\u001B[39;00menv_name\u001B[38;5;132;01m}\u001B[39;00m\u001B[38;5;124m. Did you register it, or import the package that registers it? Use `gymnasium.pprint_registry()` to see all of the registered environments.\u001B[39m\u001B[38;5;124m\"\u001B[39m\n\u001B[0;32m    534\u001B[0m     )\n\u001B[0;32m    536\u001B[0m \u001B[38;5;28;01mreturn\u001B[39;00m env_spec\n",
      "File \u001B[1;32m~\\anaconda3\\Lib\\site-packages\\gymnasium\\envs\\registration.py:397\u001B[0m, in \u001B[0;36m_check_version_exists\u001B[1;34m(ns, name, version)\u001B[0m\n\u001B[0;32m    394\u001B[0m \u001B[38;5;28;01mif\u001B[39;00m get_env_id(ns, name, version) \u001B[38;5;129;01min\u001B[39;00m registry:\n\u001B[0;32m    395\u001B[0m     \u001B[38;5;28;01mreturn\u001B[39;00m\n\u001B[1;32m--> 397\u001B[0m _check_name_exists(ns, name)\n\u001B[0;32m    398\u001B[0m \u001B[38;5;28;01mif\u001B[39;00m version \u001B[38;5;129;01mis\u001B[39;00m \u001B[38;5;28;01mNone\u001B[39;00m:\n\u001B[0;32m    399\u001B[0m     \u001B[38;5;28;01mreturn\u001B[39;00m\n",
      "File \u001B[1;32m~\\anaconda3\\Lib\\site-packages\\gymnasium\\envs\\registration.py:374\u001B[0m, in \u001B[0;36m_check_name_exists\u001B[1;34m(ns, name)\u001B[0m\n\u001B[0;32m    371\u001B[0m namespace_msg \u001B[38;5;241m=\u001B[39m \u001B[38;5;124mf\u001B[39m\u001B[38;5;124m\"\u001B[39m\u001B[38;5;124m in namespace \u001B[39m\u001B[38;5;132;01m{\u001B[39;00mns\u001B[38;5;132;01m}\u001B[39;00m\u001B[38;5;124m\"\u001B[39m \u001B[38;5;28;01mif\u001B[39;00m ns \u001B[38;5;28;01melse\u001B[39;00m \u001B[38;5;124m\"\u001B[39m\u001B[38;5;124m\"\u001B[39m\n\u001B[0;32m    372\u001B[0m suggestion_msg \u001B[38;5;241m=\u001B[39m \u001B[38;5;124mf\u001B[39m\u001B[38;5;124m\"\u001B[39m\u001B[38;5;124m Did you mean: `\u001B[39m\u001B[38;5;132;01m{\u001B[39;00msuggestion[\u001B[38;5;241m0\u001B[39m]\u001B[38;5;132;01m}\u001B[39;00m\u001B[38;5;124m`?\u001B[39m\u001B[38;5;124m\"\u001B[39m \u001B[38;5;28;01mif\u001B[39;00m suggestion \u001B[38;5;28;01melse\u001B[39;00m \u001B[38;5;124m\"\u001B[39m\u001B[38;5;124m\"\u001B[39m\n\u001B[1;32m--> 374\u001B[0m \u001B[38;5;28;01mraise\u001B[39;00m error\u001B[38;5;241m.\u001B[39mNameNotFound(\n\u001B[0;32m    375\u001B[0m     \u001B[38;5;124mf\u001B[39m\u001B[38;5;124m\"\u001B[39m\u001B[38;5;124mEnvironment `\u001B[39m\u001B[38;5;132;01m{\u001B[39;00mname\u001B[38;5;132;01m}\u001B[39;00m\u001B[38;5;124m` doesn\u001B[39m\u001B[38;5;124m'\u001B[39m\u001B[38;5;124mt exist\u001B[39m\u001B[38;5;132;01m{\u001B[39;00mnamespace_msg\u001B[38;5;132;01m}\u001B[39;00m\u001B[38;5;124m.\u001B[39m\u001B[38;5;132;01m{\u001B[39;00msuggestion_msg\u001B[38;5;132;01m}\u001B[39;00m\u001B[38;5;124m\"\u001B[39m\n\u001B[0;32m    376\u001B[0m )\n",
      "\u001B[1;31mNameNotFound\u001B[0m: Environment `xarm7ForceEnv` doesn't exist."
     ]
    }
   ],
   "source": [
    "import time\n",
    "import gymnasium as gym\n",
    "from robot_descriptions import xarm7_mj_description\n",
    "\n",
    "EVN_NAME = \"xarm7ForceEnv\"\n",
    "RENDER_MODE = \"human\"\n",
    "NUM_STEPS = 1000\n",
    "SLEEP_TIME = 0.05\n",
    "\n",
    "test_duration = NUM_STEPS * SLEEP_TIME\n",
    "print(f\"Running the simulation for {test_duration} seconds ...\")\n",
    "\n",
    "env = gym.make(EVN_NAME, render_mode=RENDER_MODE)\n",
    "obs, info = env.reset()\n",
    "\n",
    "print(\"Action Space Shape:\", env.action_space.shape)\n",
    "print(\"Action Space Sample:\", env.action_space.sample())\n",
    "\n",
    "for _ in range(NUM_STEPS):\n",
    "    action = env.action_space.sample()\n",
    "    obs, reward, terminated, truncated, info  = env.step(action)\n",
    "    \n",
    "    if terminated or truncated:\n",
    "        obs, info = env.reset()\n",
    "        \n",
    "    time.sleep(SLEEP_TIME)\n",
    "    \n",
    "env.close()"
   ]
  },
  {
   "cell_type": "code",
   "outputs": [],
   "source": [],
   "metadata": {
    "collapsed": false
   },
   "id": "9cccac8f004b8964"
  }
 ],
 "metadata": {
  "kernelspec": {
   "display_name": "Python 3",
   "language": "python",
   "name": "python3"
  },
  "language_info": {
   "codemirror_mode": {
    "name": "ipython",
    "version": 2
   },
   "file_extension": ".py",
   "mimetype": "text/x-python",
   "name": "python",
   "nbconvert_exporter": "python",
   "pygments_lexer": "ipython2",
   "version": "2.7.6"
  }
 },
 "nbformat": 4,
 "nbformat_minor": 5
}
