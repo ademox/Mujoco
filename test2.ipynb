{
 "cells": [
  {
   "cell_type": "code",
   "execution_count": 1,
   "metadata": {
    "ExecuteTime": {
     "end_time": "2025-03-21T14:48:29.942090Z",
     "start_time": "2025-03-21T14:48:11.958751Z"
    }
   },
   "outputs": [
    {
     "name": "stdout",
     "output_type": "stream",
     "text": [
      "Collecting mujoco\n",
      "  Obtaining dependency information for mujoco from https://files.pythonhosted.org/packages/03/56/f5d8e2ac2df979044cb18c8862de7be9c2247921f8f7b06d45d3daf99c15/mujoco-3.3.0-cp311-cp311-win_amd64.whl.metadata\n",
      "  Downloading mujoco-3.3.0-cp311-cp311-win_amd64.whl.metadata (45 kB)\n",
      "     ---------------------------------------- 0.0/45.5 kB ? eta -:--:--\n",
      "     --------- ------------------------------ 10.2/45.5 kB ? eta -:--:--\n",
      "     ---------------------------------- --- 41.0/45.5 kB 495.5 kB/s eta 0:00:01\n",
      "     -------------------------------------- 45.5/45.5 kB 568.0 kB/s eta 0:00:00\n",
      "Collecting absl-py (from mujoco)\n",
      "  Obtaining dependency information for absl-py from https://files.pythonhosted.org/packages/2f/7a/874c46ad2d14998bc2eedac1133c5299e12fe728d2ce91b4d64f2fcc5089/absl_py-2.2.0-py3-none-any.whl.metadata\n",
      "  Downloading absl_py-2.2.0-py3-none-any.whl.metadata (2.4 kB)\n",
      "Collecting etils[epath] (from mujoco)\n",
      "  Obtaining dependency information for etils[epath] from https://files.pythonhosted.org/packages/dd/71/40ee142e564b8a34a7ae9546e99e665e0001011a3254d5bbbe113d72ccba/etils-1.12.2-py3-none-any.whl.metadata\n",
      "  Downloading etils-1.12.2-py3-none-any.whl.metadata (6.5 kB)\n",
      "Collecting glfw (from mujoco)\n",
      "  Obtaining dependency information for glfw from https://files.pythonhosted.org/packages/9d/3d/29791f39363b613a0b62b9ca7a2449ef55fe51096797ae3bc90c1bb8d143/glfw-2.8.0-py2.py27.py3.py30.py31.py32.py33.py34.py35.py36.py37.py38.p39.p310.p311.p312.p313-none-win_amd64.whl.metadata\n",
      "  Downloading glfw-2.8.0-py2.py27.py3.py30.py31.py32.py33.py34.py35.py36.py37.py38.p39.p310.p311.p312.p313-none-win_amd64.whl.metadata (5.4 kB)\n",
      "Requirement already satisfied: numpy in c:\\users\\moujt\\anaconda3\\lib\\site-packages (from mujoco) (1.24.4)\n",
      "Collecting pyopengl (from mujoco)\n",
      "  Obtaining dependency information for pyopengl from https://files.pythonhosted.org/packages/92/44/8634af40b0db528b5b37e901c0dc67321354880d251bf8965901d57693a5/PyOpenGL-3.1.9-py3-none-any.whl.metadata\n",
      "  Downloading PyOpenGL-3.1.9-py3-none-any.whl.metadata (3.3 kB)\n",
      "Requirement already satisfied: fsspec in c:\\users\\moujt\\anaconda3\\lib\\site-packages (from etils[epath]->mujoco) (2024.9.0)\n",
      "Requirement already satisfied: importlib_resources in c:\\users\\moujt\\anaconda3\\lib\\site-packages (from etils[epath]->mujoco) (6.4.0)\n",
      "Requirement already satisfied: typing_extensions in c:\\users\\moujt\\anaconda3\\lib\\site-packages (from etils[epath]->mujoco) (4.12.2)\n",
      "Requirement already satisfied: zipp in c:\\users\\moujt\\anaconda3\\lib\\site-packages (from etils[epath]->mujoco) (3.11.0)\n",
      "Downloading mujoco-3.3.0-cp311-cp311-win_amd64.whl (4.9 MB)\n",
      "   ---------------------------------------- 0.0/4.9 MB ? eta -:--:--\n",
      "    --------------------------------------- 0.1/4.9 MB 2.0 MB/s eta 0:00:03\n",
      "   - -------------------------------------- 0.2/4.9 MB 1.7 MB/s eta 0:00:03\n",
      "   -- ------------------------------------- 0.3/4.9 MB 2.0 MB/s eta 0:00:03\n",
      "   --- ------------------------------------ 0.4/4.9 MB 2.3 MB/s eta 0:00:02\n",
      "   ---- ----------------------------------- 0.5/4.9 MB 2.4 MB/s eta 0:00:02\n",
      "   ----- ---------------------------------- 0.7/4.9 MB 2.6 MB/s eta 0:00:02\n",
      "   ------- -------------------------------- 0.9/4.9 MB 2.8 MB/s eta 0:00:02\n",
      "   -------- ------------------------------- 1.1/4.9 MB 3.0 MB/s eta 0:00:02\n",
      "   ---------- ----------------------------- 1.3/4.9 MB 3.2 MB/s eta 0:00:02\n",
      "   ------------ --------------------------- 1.5/4.9 MB 3.4 MB/s eta 0:00:01\n",
      "   --------------- ------------------------ 1.8/4.9 MB 3.7 MB/s eta 0:00:01\n",
      "   ----------------- ---------------------- 2.2/4.9 MB 3.9 MB/s eta 0:00:01\n",
      "   -------------------- ------------------- 2.4/4.9 MB 4.1 MB/s eta 0:00:01\n",
      "   ----------------------- ---------------- 2.8/4.9 MB 4.4 MB/s eta 0:00:01\n",
      "   -------------------------- ------------- 3.3/4.9 MB 4.8 MB/s eta 0:00:01\n",
      "   ------------------------------- -------- 3.8/4.9 MB 5.2 MB/s eta 0:00:01\n",
      "   ----------------------------------- ---- 4.4/4.9 MB 5.6 MB/s eta 0:00:01\n",
      "   ---------------------------------------  4.9/4.9 MB 6.0 MB/s eta 0:00:01\n",
      "   ---------------------------------------- 4.9/4.9 MB 5.9 MB/s eta 0:00:00\n",
      "Downloading absl_py-2.2.0-py3-none-any.whl (276 kB)\n",
      "   ---------------------------------------- 0.0/277.0 kB ? eta -:--:--\n",
      "   --------------------------------------- 277.0/277.0 kB 16.7 MB/s eta 0:00:00\n",
      "Downloading glfw-2.8.0-py2.py27.py3.py30.py31.py32.py33.py34.py35.py36.py37.py38.p39.p310.p311.p312.p313-none-win_amd64.whl (559 kB)\n",
      "   ---------------------------------------- 0.0/559.4 kB ? eta -:--:--\n",
      "   --------------------------------------- 559.4/559.4 kB 17.7 MB/s eta 0:00:00\n",
      "Downloading PyOpenGL-3.1.9-py3-none-any.whl (3.2 MB)\n",
      "   ---------------------------------------- 0.0/3.2 MB ? eta -:--:--\n",
      "   ------------ --------------------------- 1.0/3.2 MB 21.8 MB/s eta 0:00:01\n",
      "   ----------------------- ---------------- 1.9/3.2 MB 19.9 MB/s eta 0:00:01\n",
      "   ------------------------------------- -- 3.0/3.2 MB 21.4 MB/s eta 0:00:01\n",
      "   ---------------------------------------- 3.2/3.2 MB 20.4 MB/s eta 0:00:00\n",
      "Downloading etils-1.12.2-py3-none-any.whl (167 kB)\n",
      "   ---------------------------------------- 0.0/167.6 kB ? eta -:--:--\n",
      "   ---------------------------------------- 167.6/167.6 kB ? eta 0:00:00\n",
      "Installing collected packages: pyopengl, glfw, etils, absl-py, mujoco\n",
      "Successfully installed absl-py-2.2.0 etils-1.12.2 glfw-2.8.0 mujoco-3.3.0 pyopengl-3.1.9\n"
     ]
    }
   ],
   "source": [
    "!pip install mujoco"
   ]
  },
  {
   "cell_type": "code",
   "outputs": [],
   "source": [
    "import mujoco\n",
    "import mujoco.viewer\n",
    "import time "
   ],
   "metadata": {
    "collapsed": false,
    "ExecuteTime": {
     "end_time": "2025-03-21T14:50:59.493452Z",
     "start_time": "2025-03-21T14:50:59.487245Z"
    }
   },
   "execution_count": 3
  },
  {
   "cell_type": "code",
   "outputs": [
    {
     "name": "stdout",
     "output_type": "stream",
     "text": [
      "Cloning https://github.com/deepmind/mujoco_menagerie.git...\n"
     ]
    },
    {
     "name": "stderr",
     "output_type": "stream",
     "text": [
      "100%|██████████| 1486.0/1486.0 [00:17<00:00, 87.02it/s]  \n"
     ]
    }
   ],
   "source": [
    "from robot_descriptions import xarm7_mj_description\n",
    "model = mujoco.MjModel.from_xml_path(xarm7_mj_description.MJCF_PATH)"
   ],
   "metadata": {
    "collapsed": false,
    "ExecuteTime": {
     "end_time": "2025-03-21T14:55:08.934390Z",
     "start_time": "2025-03-21T14:54:51.479321Z"
    }
   },
   "execution_count": 4
  },
  {
   "cell_type": "code",
   "outputs": [],
   "source": [
    "from robot_descriptions.loaders.mujoco import load_robot_description\n",
    "model = load_robot_description(\"xarm7_mj_description\")"
   ],
   "metadata": {
    "collapsed": false,
    "ExecuteTime": {
     "end_time": "2025-03-21T14:57:45.890982Z",
     "start_time": "2025-03-21T14:57:45.758278Z"
    }
   },
   "execution_count": 5
  },
  {
   "cell_type": "code",
   "outputs": [],
   "source": [
    "data = mujoco.MjData(model)"
   ],
   "metadata": {
    "collapsed": false,
    "ExecuteTime": {
     "end_time": "2025-03-21T14:59:35.664242Z",
     "start_time": "2025-03-21T14:59:35.660708Z"
    }
   },
   "execution_count": 6
  },
  {
   "cell_type": "code",
   "outputs": [],
   "source": [
    "with mujoco.viewer.launch_passive(model, data) as viewer:\n",
    "    start = time.time()\n",
    "    while viewer.is_running() and time.time() - start < 30:\n",
    "        step_start = time.time()\n",
    "        \n",
    "        mujoco.mj_step(model, data)\n",
    "        \n",
    "        with viewer.lock():\n",
    "            viewer.opt.flags[mujoco.mjtVisFlag.mjVIS_CONTACTPOINT] = int(data.time % 2)\n",
    "        \n",
    "        viewer.sync()\n",
    "        \n",
    "        time_until_next_step = model.opt.timestep - (time.time() - step_start)\n",
    "        if time_until_next_step > 0:\n",
    "            time.sleep(time_until_next_step)"
   ],
   "metadata": {
    "collapsed": false,
    "ExecuteTime": {
     "end_time": "2025-03-21T15:05:39.561407Z",
     "start_time": "2025-03-21T15:05:09.416605Z"
    }
   },
   "execution_count": 8
  },
  {
   "cell_type": "code",
   "outputs": [],
   "source": [],
   "metadata": {
    "collapsed": false
   }
  }
 ],
 "metadata": {
  "kernelspec": {
   "display_name": "Python 3",
   "language": "python",
   "name": "python3"
  },
  "language_info": {
   "codemirror_mode": {
    "name": "ipython",
    "version": 3
   },
   "file_extension": ".py",
   "mimetype": "text/x-python",
   "name": "python",
   "nbconvert_exporter": "python",
   "pygments_lexer": "ipython3",
   "version": "3.11.8"
  }
 },
 "nbformat": 4,
 "nbformat_minor": 2
}
